{
 "cells": [
  {
   "cell_type": "code",
   "execution_count": 17,
   "id": "ec0a86c3",
   "metadata": {},
   "outputs": [],
   "source": [
    "def age_cal():\n",
    "    \n",
    "    birth_date = entry_birth_date.get()\n",
    "    try:\n",
    "        #birth_date = input(\"please enter\")\n",
    "        b_year, b_month,b_date = map(int,birth_date.split('-'))\n",
    "        current_year = 2024\n",
    "        current_month = 1\n",
    "        current_date = 1\n",
    "        #checking if it has occured\n",
    "        if (current_year,current_month,current_date) >= (b_year, b_month, b_date):\n",
    "            age = current_year - b_year -1\n",
    "        else:\n",
    "            age = current_year - b_year \n",
    "        print('your age is: ', age)    \n",
    "    except:\n",
    "        print('invalid')\n",
    "            "
   ]
  },
  {
   "cell_type": "code",
   "execution_count": 18,
   "id": "3cc1447b",
   "metadata": {},
   "outputs": [
    {
     "name": "stdout",
     "output_type": "stream",
     "text": [
      "please enter2003-12-01\n",
      "your age is:  20\n"
     ]
    }
   ],
   "source": [
    "age_cal()"
   ]
  },
  {
   "cell_type": "code",
   "execution_count": 2,
   "id": "b00f4885",
   "metadata": {},
   "outputs": [],
   "source": [
    "from tkinter import *\n",
    "\n",
    "def age_cal():\n",
    "    \n",
    "    birth_date = entry_birth_date.get()\n",
    "    try:\n",
    "        #birth_date = input(\"please enter\")\n",
    "        b_year, b_month,b_date = map(int,birth_date.split('-'))\n",
    "        current_year = 2024\n",
    "        current_month = 1\n",
    "        current_date = 1\n",
    "        #checking if it has occured\n",
    "        if (current_year,current_month,current_date) >= (b_year, b_month, b_date):\n",
    "            age = current_year - b_year -1\n",
    "        else:\n",
    "            age = current_year - b_year\n",
    "        label_result.config(text=f\"Your age is: {age} years\")  \n",
    "        \n",
    "    except:\n",
    "        label_result.config(text=\"Invalid date format. Please use yyyy-mm-dd\")\n",
    "            \n",
    "\n",
    "\n",
    "root = Tk()\n",
    "root.title('Age Calculator')\n",
    "root.geometry('350x450')\n",
    "root.configure(background = '#0096DC') \n",
    "\n",
    "\n",
    "\n",
    "birth_date_label = Label(root,text =\"Enter your birth date (yyyy-mm-dd): \")\n",
    "birth_date_label.pack(pady=10)\n",
    "entry_birth_date = Entry(root,width = 20)\n",
    "entry_birth_date.pack(pady = 10)\n",
    "\n",
    "button_cal = Button(root,text= \"calculate age\", command = age_cal)\n",
    "button_cal.pack(pady=10)\n",
    "label_result = Label(root,text = \"here it'll display \")\n",
    "label_result.pack(pady =10)\n",
    "root.mainloop()\n"
   ]
  },
  {
   "cell_type": "markdown",
   "id": "70b80b21",
   "metadata": {},
   "source": []
  },
  {
   "cell_type": "code",
   "execution_count": null,
   "id": "a2850803",
   "metadata": {},
   "outputs": [],
   "source": []
  }
 ],
 "metadata": {
  "kernelspec": {
   "display_name": "Python 3 (ipykernel)",
   "language": "python",
   "name": "python3"
  },
  "language_info": {
   "codemirror_mode": {
    "name": "ipython",
    "version": 3
   },
   "file_extension": ".py",
   "mimetype": "text/x-python",
   "name": "python",
   "nbconvert_exporter": "python",
   "pygments_lexer": "ipython3",
   "version": "3.11.4"
  }
 },
 "nbformat": 4,
 "nbformat_minor": 5
}
